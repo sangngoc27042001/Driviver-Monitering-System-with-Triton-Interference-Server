{
 "cells": [
  {
   "cell_type": "code",
   "execution_count": 20,
   "metadata": {},
   "outputs": [
    {
     "name": "stderr",
     "output_type": "stream",
     "text": [
      "Downloading: \"https://github.com/ultralytics/yolov5/zipball/master\" to C:\\Users\\SANG/.cache\\torch\\hub\\master.zip\n",
      "YOLOv5  2023-1-31 Python-3.8.5 torch-1.13.0+cpu CPU\n",
      "\n",
      "Fusing layers... \n",
      "YOLOv5n summary: 157 layers, 1761871 parameters, 0 gradients, 4.1 GFLOPs\n",
      "Adding AutoShape... \n"
     ]
    }
   ],
   "source": [
    "config = {\n",
    "    'ear_thesh':0.33,\n",
    "    'mar_thesh' : 0.8,\n",
    "    'ear_frame_count_thesh' : 5,\n",
    "    'mar_frame_count_thesh' : 7,\n",
    "    'YOLOV5_phone_cigarette_model_weight': './weights/best_phone_cigaretteV3.pt',\n",
    "    'YOLOV5_conf': 0.6,\n",
    "    'phone_frame_count_thesh':3,\n",
    "    'cigarette_frame_count_thesh':3\n",
    "}\n",
    "\n",
    "import torch\n",
    "import numpy as np\n",
    "YOLOV5_phone_cigarette_model = torch.hub.load('ultralytics/yolov5','custom', path = config['YOLOV5_phone_cigarette_model_weight'], force_reload=True)\n"
   ]
  },
  {
   "cell_type": "code",
   "execution_count": 22,
   "metadata": {},
   "outputs": [
    {
     "data": {
      "text/plain": [
       "YOLOv5 <class 'models.common.Detections'> instance\n",
       "image 1/1: 640x640 (no detections)\n",
       "Speed: 47.3ms pre-process, 311.7ms inference, 1.0ms NMS per image at shape (1, 3, 640, 640)"
      ]
     },
     "execution_count": 22,
     "metadata": {},
     "output_type": "execute_result"
    }
   ],
   "source": [
    "example = torch.rand(224,224,3)\n",
    "YOLOV5_phone_cigarette_model([np.random.rand(3,640,640)])"
   ]
  }
 ],
 "metadata": {
  "kernelspec": {
   "display_name": "Python 3",
   "language": "python",
   "name": "python3"
  },
  "language_info": {
   "codemirror_mode": {
    "name": "ipython",
    "version": 3
   },
   "file_extension": ".py",
   "mimetype": "text/x-python",
   "name": "python",
   "nbconvert_exporter": "python",
   "pygments_lexer": "ipython3",
   "version": "3.8.5"
  },
  "orig_nbformat": 4,
  "vscode": {
   "interpreter": {
    "hash": "0915971c03707a21584c0aabab848a3b147512c180720cb6e7127d50e0b92195"
   }
  }
 },
 "nbformat": 4,
 "nbformat_minor": 2
}
